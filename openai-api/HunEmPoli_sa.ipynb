{
 "cells": [
  {
   "cell_type": "code",
   "execution_count": null,
   "metadata": {},
   "outputs": [],
   "source": [
    "import os\n",
    "import json\n",
    "from pathlib import Path\n",
    "import pandas as pd"
   ]
  },
  {
   "cell_type": "markdown",
   "metadata": {},
   "source": [
    "# Reading in the data"
   ]
  },
  {
   "cell_type": "code",
   "execution_count": 1,
   "metadata": {},
   "outputs": [
    {
     "name": "stdout",
     "output_type": "stream",
     "text": [
      "Loaded 1008 JSON files from E:\\Datasets\\HunEmPoli\\Napirend_elotti_annotalt_javitott\n"
     ]
    }
   ],
   "source": [
    "# Get the folder path from the environment variable\n",
    "hun_em_poli_folder = os.environ.get('HUN_EM_POLI_FOLDER_PATH')\n",
    "\n",
    "if hun_em_poli_folder is None:\n",
    "    raise ValueError(\"HUN_EM_POLI_FOLDER_PATH environment variable is not set\")\n",
    "\n",
    "# Create a Path object for the folder\n",
    "folder_path = Path(hun_em_poli_folder)\n",
    "\n",
    "# Load all JSON files from the folder\n",
    "json_data = []\n",
    "for file_path in folder_path.glob('*.json'):\n",
    "    with open(file_path, 'r', encoding='utf-8') as file:\n",
    "        json_data.append(json.load(file))\n",
    "\n",
    "print(f\"Loaded {len(json_data)} JSON files from {folder_path}\")"
   ]
  },
  {
   "cell_type": "code",
   "execution_count": 4,
   "metadata": {},
   "outputs": [],
   "source": [
    "emotion_hierarchy = {\n",
    "    \"Negative\": {\n",
    "        \"Fear\": {\n",
    "            \"Fear\": {\n",
    "                \"Related concepts\": [\n",
    "                    \"fear\", \"threat\", \"intimidation\", \"dread\", \"anxiety\"\n",
    "                ],\n",
    "                \"classId\": \"e_1\"\n",
    "            }\n",
    "        },\n",
    "        \"Sadness\": {\n",
    "            \"Suffering\": {\n",
    "                \"Related concepts\": [\n",
    "                    \"suffering\", \"deprivation\", \"misery\", \"poverty\", \"torment\", \"failure\", \"negative change\"\n",
    "                ],\n",
    "                \"classId\": \"e_2\"\n",
    "            },\n",
    "            \"Sorrow\": {\n",
    "                \"Related concepts\": [\n",
    "                    \"sorrow\", \"despair\", \"hopelessness\", \"melancholy\"\n",
    "                ],\n",
    "                \"classId\": \"e_3\"\n",
    "            },\n",
    "            \"Misfortune\": {\n",
    "                \"Related concepts\": [\n",
    "                    \"misfortune\", \"catastrophe\"\n",
    "                ],\n",
    "                \"classId\": \"e_4\"\n",
    "            }\n",
    "        },\n",
    "        \"Anger\": {\n",
    "            \"Crime\": {\n",
    "                \"Related concepts\": [\n",
    "                    \"crime\", \"terror\", \"assassination\", \"persecution\", \"cruelty\", \"organized crime\", \"vandalism\", \"intentional harm\", \"violence\"\n",
    "                ],\n",
    "                \"classId\": \"e_5\"\n",
    "            },\n",
    "            \"Anger\": {\n",
    "                \"Related concepts\": [\n",
    "                    \"anger\", \"fury\", \"hatred\"\n",
    "                ],\n",
    "                \"classId\": \"e_6\"\n",
    "            }\n",
    "        },\n",
    "        \"Disgust\": {\n",
    "            \"Conflict\": {\n",
    "                \"Related concepts\": [\n",
    "                    \"conflict\", \"confusion\", \"conflict of interest\", \"revenge\", \"punishment\"\n",
    "                ],\n",
    "                \"classId\": \"e_7\"\n",
    "            },\n",
    "            \"Contempt\": {\n",
    "                \"Related concepts\": [\n",
    "                    \"contempt\", \"mockery\"\n",
    "                ],\n",
    "                \"classId\": \"e_8\"\n",
    "            }\n",
    "        }\n",
    "    },\n",
    "    \"Positive\": {\n",
    "        \"Success\": {\n",
    "            \"Improvement\": {\n",
    "                \"Related concepts\": [\n",
    "                    \"improvement\", \"relief\", \"development\", \"success\", \"positive change\"\n",
    "                ],\n",
    "                \"classId\": \"e_9\"\n",
    "            }\n",
    "        },\n",
    "        \"Joy\": {\n",
    "            \"Joy\": {\n",
    "                \"Related concepts\": [\n",
    "                    \"joy\", \"enjoyment\", \"merriment\", \"serenity\", \"love\", \"acceptance\", \"tolerance\"\n",
    "                ],\n",
    "                \"classId\": \"e_10\"\n",
    "            }\n",
    "        },\n",
    "        \"Trust\": {\n",
    "            \"Assistance\": {\n",
    "                \"Related concepts\": [\n",
    "                    \"assistance\", \"rescue\", \"relief\", \"healing\", \"care\", \"deliverance\"\n",
    "                ],\n",
    "                \"classId\": \"e_11\"\n",
    "            },\n",
    "            \"Justice\": {\n",
    "                \"Related concepts\": [\n",
    "                    \"justice\", \"investigation\"\n",
    "                ],\n",
    "                \"classId\": \"e_12\"\n",
    "            }\n",
    "        }\n",
    "    }\n",
    "}"
   ]
  },
  {
   "cell_type": "code",
   "execution_count": 9,
   "metadata": {},
   "outputs": [
    {
     "name": "stdout",
     "output_type": "stream",
     "text": [
      "Negative Fear Fear {'Related concepts': ['fear', 'threat', 'intimidation', 'dread', 'anxiety'], 'classId': 'e_1'}\n",
      "Negative Sadness Suffering {'Related concepts': ['suffering', 'deprivation', 'misery', 'poverty', 'torment', 'failure', 'negative change'], 'classId': 'e_2'}\n",
      "Negative Sadness Sorrow {'Related concepts': ['sorrow', 'despair', 'hopelessness', 'melancholy'], 'classId': 'e_3'}\n",
      "Negative Sadness Misfortune {'Related concepts': ['misfortune', 'catastrophe'], 'classId': 'e_4'}\n",
      "Negative Anger Crime {'Related concepts': ['crime', 'terror', 'assassination', 'persecution', 'cruelty', 'organized crime', 'vandalism', 'intentional harm', 'violence'], 'classId': 'e_5'}\n",
      "Negative Anger Anger {'Related concepts': ['anger', 'fury', 'hatred'], 'classId': 'e_6'}\n",
      "Negative Disgust Conflict {'Related concepts': ['conflict', 'confusion', 'conflict of interest', 'revenge', 'punishment'], 'classId': 'e_7'}\n",
      "Negative Disgust Contempt {'Related concepts': ['contempt', 'mockery'], 'classId': 'e_8'}\n",
      "Positive Success Improvement {'Related concepts': ['improvement', 'relief', 'development', 'success', 'positive change'], 'classId': 'e_9'}\n",
      "Positive Joy Joy {'Related concepts': ['joy', 'enjoyment', 'merriment', 'serenity', 'love', 'acceptance', 'tolerance'], 'classId': 'e_10'}\n",
      "Positive Trust Assistance {'Related concepts': ['assistance', 'rescue', 'relief', 'healing', 'care', 'deliverance'], 'classId': 'e_11'}\n",
      "Positive Trust Justice {'Related concepts': ['justice', 'investigation'], 'classId': 'e_12'}\n"
     ]
    }
   ],
   "source": [
    "for (k1,v1) in emotion_hierarchy.items():\n",
    "    for (k2,v2) in v1.items():\n",
    "        for (k3,v3) in v2.items():\n",
    "            print(k1,k2,k3,v3)"
   ]
  },
  {
   "cell_type": "code",
   "execution_count": 21,
   "metadata": {},
   "outputs": [
    {
     "name": "stdout",
     "output_type": "stream",
     "text": [
      "   Sentiment In Plutchik's system Emotion topic  \\\n",
      "0   Negative                 Fear          Fear   \n",
      "1   Negative              Sadness     Suffering   \n",
      "2   Negative              Sadness        Sorrow   \n",
      "3   Negative              Sadness    Misfortune   \n",
      "4   Negative                Anger         Crime   \n",
      "5   Negative                Anger         Anger   \n",
      "6   Negative              Disgust      Conflict   \n",
      "7   Negative              Disgust      Contempt   \n",
      "8   Positive              Success   Improvement   \n",
      "9   Positive                  Joy           Joy   \n",
      "10  Positive                Trust    Assistance   \n",
      "11  Positive                Trust       Justice   \n",
      "\n",
      "                                     Related concepts classId  \n",
      "0        [fear, threat, intimidation, dread, anxiety]     e_1  \n",
      "1   [suffering, deprivation, misery, poverty, torm...     e_2  \n",
      "2         [sorrow, despair, hopelessness, melancholy]     e_3  \n",
      "3                           [misfortune, catastrophe]     e_4  \n",
      "4   [crime, terror, assassination, persecution, cr...     e_5  \n",
      "5                               [anger, fury, hatred]     e_6  \n",
      "6   [conflict, confusion, conflict of interest, re...     e_7  \n",
      "7                                 [contempt, mockery]     e_8  \n",
      "8   [improvement, relief, development, success, po...     e_9  \n",
      "9   [joy, enjoyment, merriment, serenity, love, ac...    e_10  \n",
      "10  [assistance, rescue, relief, healing, care, de...    e_11  \n",
      "11                           [justice, investigation]    e_12  \n"
     ]
    }
   ],
   "source": [
    "emotion_table = pd.DataFrame(columns=[\"Sentiment\",\"In Plutchik's system\",\"Emotion topic\",\"Related concepts\",\"classId\"])\n",
    "for (k1,v1) in emotion_hierarchy.items():\n",
    "    for (k2,v2) in v1.items():\n",
    "        for (k3,v3) in v2.items():\n",
    "            rel_con = v3['Related concepts']\n",
    "            class_id = v3['classId']\n",
    "            emotion_table.loc[len(emotion_table.index)] = [k1,k2,k3,rel_con,class_id]\n",
    "\n",
    "         \n",
    "print(emotion_table)"
   ]
  },
  {
   "cell_type": "markdown",
   "metadata": {},
   "source": [
    "# Analysis"
   ]
  },
  {
   "cell_type": "markdown",
   "metadata": {},
   "source": [
    "count the number of entities in each class"
   ]
  },
  {
   "cell_type": "code",
   "execution_count": 43,
   "metadata": {},
   "outputs": [
    {
     "data": {
      "text/plain": [
       "{'e_1': 619,\n",
       " 'e_2': 9132,\n",
       " 'e_3': 1581,\n",
       " 'e_4': 12455,\n",
       " 'e_5': 9389,\n",
       " 'e_6': 3894,\n",
       " 'e_7': 281,\n",
       " 'e_8': 865,\n",
       " 'e_9': 168,\n",
       " 'e_10': 72,\n",
       " 'e_11': 411,\n",
       " 'e_12': 973}"
      ]
     },
     "execution_count": 43,
     "metadata": {},
     "output_type": "execute_result"
    }
   ],
   "source": [
    "counts = {f\"e_{i+1}\":0 for i in range(12)}\n",
    "for f in json_data:\n",
    "    for entity in f['entities']:\n",
    "        if entity['classId'] in counts.keys():\n",
    "            counts[entity['classId']] += 1\n",
    "\n",
    "counts"
   ]
  },
  {
   "cell_type": "code",
   "execution_count": 63,
   "metadata": {},
   "outputs": [
    {
     "data": {
      "text/plain": [
       "[]"
      ]
     },
     "execution_count": 63,
     "metadata": {},
     "output_type": "execute_result"
    },
    {
     "data": {
      "image/png": "[encoded data removed]",
      "text/plain": [
       "<Figure size 640x480 with 1 Axes>"
      ]
     },
     "metadata": {},
     "output_type": "display_data"
    }
   ],
   "source": [
    "import matplotlib.pyplot as plt\n",
    "d= {row._3:counts[row.classId ] for row in emotion_table.itertuples()}\n",
    "plt.xticks(rotation='vertical')\n",
    "plt.bar(d.keys(),d.values())\n",
    "plt.plot()"
   ]
  },
  {
   "cell_type": "markdown",
   "metadata": {},
   "source": [
    "# Sentiment analysis"
   ]
  }
 ],
 "metadata": {
  "kernelspec": {
   "display_name": "Python 3",
   "language": "python",
   "name": "python3"
  },
  "language_info": {
   "codemirror_mode": {
    "name": "ipython",
    "version": 3
   },
   "file_extension": ".py",
   "mimetype": "text/x-python",
   "name": "python",
   "nbconvert_exporter": "python",
   "pygments_lexer": "ipython3",
   "version": "3.11.3"
  }
 },
 "nbformat": 4,
 "nbformat_minor": 2
}
