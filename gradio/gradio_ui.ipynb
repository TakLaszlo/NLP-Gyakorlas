{
 "cells": [
  {
   "cell_type": "code",
   "execution_count": 8,
   "metadata": {},
   "outputs": [],
   "source": [
    "import gradio as gr\n",
    "from openai import OpenAI\n",
    "\n",
    "from math import exp"
   ]
  },
  {
   "cell_type": "code",
   "execution_count": 14,
   "metadata": {},
   "outputs": [],
   "source": [
    "def classify_text(model_name,classes,text):\n",
    "    client = OpenAI()\n",
    "    response = client.chat.completions.create(\n",
    "        model=model_name,\n",
    "        messages=[\n",
    "            {\"role\": \"system\", \"content\": \"You are a helpful assistant that classifies text into predefined categories.\"},\n",
    "            {\"role\": \"user\", \"content\": f\"Classify the following text into one of these categories: {', '.join(classes)}.\\n\\nText: {text}\"}\n",
    "        ],\n",
    "        logprobs=True,\n",
    "        top_p = 0.5,\n",
    "        n=10\n",
    "    )\n",
    "    probs = {\n",
    "        completion.message.content : exp(sum([lp.logprob for lp  in completion.logprobs.content]))\n",
    "        for completion in response.choices\n",
    "        if completion.message.content in classes\n",
    "    }\n",
    "    for c in classes:\n",
    "        if c not in probs:\n",
    "            probs[c] =0\n",
    "    print(probs)\n",
    "    return probs\n",
    "    "
   ]
  },
  {
   "cell_type": "code",
   "execution_count": 10,
   "metadata": {},
   "outputs": [],
   "source": [
    "classes_list = []"
   ]
  },
  {
   "cell_type": "code",
   "execution_count": 11,
   "metadata": {},
   "outputs": [],
   "source": [
    "def add_class(new_class):\n",
    "    if new_class and new_class not in classes_list:\n",
    "        classes_list.append(new_class)\n",
    "    return gr.List([classes_list],label=\"Classes\")\n",
    "def remove_class(class_to_remove):\n",
    "    if class_to_remove in classes_list:\n",
    "        classes_list.remove(class_to_remove)\n",
    "    return gr.List([classes_list],label=\"Classes\")\n"
   ]
  },
  {
   "cell_type": "code",
   "execution_count": 15,
   "metadata": {},
   "outputs": [
    {
     "name": "stdout",
     "output_type": "stream",
     "text": [
      "Running on local URL:  http://127.0.0.1:7862\n",
      "\n",
      "To create a public link, set `share=True` in `launch()`.\n"
     ]
    },
    {
     "data": {
      "text/html": [
       "<div><iframe src=\"http://127.0.0.1:7862/\" width=\"100%\" height=\"500\" allow=\"autoplay; camera; microphone; clipboard-read; clipboard-write;\" frameborder=\"0\" allowfullscreen></iframe></div>"
      ],
      "text/plain": [
       "<IPython.core.display.HTML object>"
      ]
     },
     "metadata": {},
     "output_type": "display_data"
    },
    {
     "data": {
      "text/plain": []
     },
     "execution_count": 15,
     "metadata": {},
     "output_type": "execute_result"
    },
    {
     "name": "stdout",
     "output_type": "stream",
     "text": [
      "{'Negatív': 0.9358208464187076, 'Pozitív': 0}\n",
      "{'Pozitív': 0, 'Negatív': 0}\n",
      "{'Negatív': 0.9358208464187076, 'Pozitív': 0}\n"
     ]
    }
   ],
   "source": [
    "classes_list = []\n",
    "with gr.Blocks() as demo:\n",
    "    gr.Markdown(\"## Text Classification App\")\n",
    "    model_name = gr.Dropdown(label=\"Model Name\", choices=[\"gpt-3.5-turbo\", \"gpt-4o-mini\"], value=\"gpt-3.5-turbo\")\n",
    "    text = gr.Textbox(label=\"Text to be analized\")\n",
    "\n",
    "    with gr.Row():\n",
    "        with gr.Column():\n",
    "            classes = gr.List([],label=\"Classes\")\n",
    "        with gr.Column():\n",
    "            with gr.Row():\n",
    "                new_class = gr.Textbox(label=\"New Class\")\n",
    "                add_class_btn = gr.Button(\"Add Class\")\n",
    "            with gr.Row():\n",
    "                remove_class_input = gr.Dropdown(label=\"Remove Class\", choices=[], value=None)\n",
    "                remove_class_btn = gr.Button(\"Remove Class\")\n",
    "\n",
    "    add_class_btn.click(add_class, [new_class], [classes])\n",
    "    add_class_btn.click(lambda: gr.update(choices=classes_list), None, remove_class_input)\n",
    "    add_class_btn.click(lambda: \"\", None, new_class)\n",
    "    \n",
    "    remove_class_btn.click(remove_class, [remove_class_input], [classes])\n",
    "    remove_class_btn.click(lambda: gr.update(choices=classes_list), None, remove_class_input)\n",
    "   \n",
    "    output_probabilities = gr.Label(label=\"Probabilities\")\n",
    "    \n",
    "\n",
    "    classify_btn = gr.Button(\"Classify\")\n",
    "    classify_btn.click(lambda m,t: classify_text(m,classes_list,t) , [model_name,text], [output_probabilities])\n",
    "\n",
    "demo.launch()"
   ]
  }
 ],
 "metadata": {
  "kernelspec": {
   "display_name": "Python 3",
   "language": "python",
   "name": "python3"
  },
  "language_info": {
   "codemirror_mode": {
    "name": "ipython",
    "version": 3
   },
   "file_extension": ".py",
   "mimetype": "text/x-python",
   "name": "python",
   "nbconvert_exporter": "python",
   "pygments_lexer": "ipython3",
   "version": "3.11.3"
  }
 },
 "nbformat": 4,
 "nbformat_minor": 2
}
