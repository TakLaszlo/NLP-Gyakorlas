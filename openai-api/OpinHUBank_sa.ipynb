{
 "cells": [
  {
   "cell_type": "code",
   "execution_count": 1,
   "metadata": {},
   "outputs": [
    {
     "data": {
      "text/plain": [
       "True"
      ]
     },
     "execution_count": 1,
     "metadata": {},
     "output_type": "execute_result"
    }
   ],
   "source": [
    "import openai\n",
    "import pandas as pd\n",
    "from scipy.stats import mode\n",
    "import matplotlib.pyplot as plt\n",
    "from sklearn.metrics import confusion_matrix, ConfusionMatrixDisplay\n",
    "import numpy as np\n",
    "from dotenv import load_dotenv\n",
    "from os import getenv\n",
    "\n",
    "load_dotenv()"
   ]
  },
  {
   "cell_type": "code",
   "execution_count": 2,
   "metadata": {},
   "outputs": [
    {
     "data": {
      "text/plain": [
       "(   ID  START  LEN           Entity  \\\n",
       " 0   1     28    2      Schmitt Pál   \n",
       " 1   2      7    2  Matolcsy György   \n",
       " 2   3     15    2  Szijjártó Péter   \n",
       " 3   4     18    2     Szabó Attila   \n",
       " 4   5     12    2        P. Zoltán   \n",
       " \n",
       "                                             Sentence  \\\n",
       " 0  A magyarok tiszta, egyértelmű, vállalható, jól...   \n",
       " 1  A szóvivő megerősítette: a kabinet Matolcsy Gy...   \n",
       " 2  A nyugdíjasok utazási kedvezményének megvonása...   \n",
       " 3  Itt találta el az a lövés, amellyel egy vadász...   \n",
       " 4  Egy csempész ismerőse szintén ,,cigiben utazó\"...   \n",
       " \n",
       "                                                  URL  Annot1  Annot2  Annot3  \\\n",
       " 0  http://kecskemetitv.hu/hun/sa_kecskemet/i_belf...       0       0       0   \n",
       " 1  http://mti.hu/article-proxy/2011/02/18/szijjar...       0       0       0   \n",
       " 2  http://mti.hu/article-proxy/2011/02/18/szijjar...       0       0       0   \n",
       " 3  http://kecskemetitv.hu/hun/sa_zuschlag_per_kec...       0       0       0   \n",
       " 4  http://atv.hu/bunugy/20110223_felesegevel_egyu...       0      -1      -1   \n",
       " \n",
       "    Annot4  Annot5  \n",
       " 0       0       0  \n",
       " 1       0       0  \n",
       " 2       0       0  \n",
       " 3       0       0  \n",
       " 4      -1      -1  ,\n",
       " Index(['ID', 'START', 'LEN', 'Entity', 'Sentence', 'URL', 'Annot1', 'Annot2',\n",
       "        'Annot3', 'Annot4', 'Annot5'],\n",
       "       dtype='object'))"
      ]
     },
     "execution_count": 2,
     "metadata": {},
     "output_type": "execute_result"
    }
   ],
   "source": [
    "data = pd.read_csv(getenv('OPIN_HU_BANK_PATH'), encoding='ISO-8859-2')\n",
    "data.head(), data.columns"
   ]
  },
  {
   "cell_type": "code",
   "execution_count": 3,
   "metadata": {},
   "outputs": [
    {
     "data": {
      "image/png": "[encoded data removed]",
      "text/plain": [
       "<Figure size 640x480 with 1 Axes>"
      ]
     },
     "metadata": {},
     "output_type": "display_data"
    },
    {
     "data": {
      "text/html": [
       "<div>\n",
       "<style scoped>\n",
       "    .dataframe tbody tr th:only-of-type {\n",
       "        vertical-align: middle;\n",
       "    }\n",
       "\n",
       "    .dataframe tbody tr th {\n",
       "        vertical-align: top;\n",
       "    }\n",
       "\n",
       "    .dataframe thead th {\n",
       "        text-align: right;\n",
       "    }\n",
       "</style>\n",
       "<table border=\"1\" class=\"dataframe\">\n",
       "  <thead>\n",
       "    <tr style=\"text-align: right;\">\n",
       "      <th></th>\n",
       "      <th>Sentence</th>\n",
       "      <th>ConsensusSentiment</th>\n",
       "    </tr>\n",
       "  </thead>\n",
       "  <tbody>\n",
       "    <tr>\n",
       "      <th>0</th>\n",
       "      <td>A magyarok tiszta, egyértelmű, vállalható, jól...</td>\n",
       "      <td>0</td>\n",
       "    </tr>\n",
       "    <tr>\n",
       "      <th>1</th>\n",
       "      <td>A szóvivő megerősítette: a kabinet Matolcsy Gy...</td>\n",
       "      <td>0</td>\n",
       "    </tr>\n",
       "    <tr>\n",
       "      <th>2</th>\n",
       "      <td>A nyugdíjasok utazási kedvezményének megvonása...</td>\n",
       "      <td>0</td>\n",
       "    </tr>\n",
       "    <tr>\n",
       "      <th>3</th>\n",
       "      <td>Itt találta el az a lövés, amellyel egy vadász...</td>\n",
       "      <td>0</td>\n",
       "    </tr>\n",
       "    <tr>\n",
       "      <th>4</th>\n",
       "      <td>Egy csempész ismerőse szintén ,,cigiben utazó\"...</td>\n",
       "      <td>-1</td>\n",
       "    </tr>\n",
       "  </tbody>\n",
       "</table>\n",
       "</div>"
      ],
      "text/plain": [
       "                                            Sentence  ConsensusSentiment\n",
       "0  A magyarok tiszta, egyértelmű, vállalható, jól...                   0\n",
       "1  A szóvivő megerősítette: a kabinet Matolcsy Gy...                   0\n",
       "2  A nyugdíjasok utazási kedvezményének megvonása...                   0\n",
       "3  Itt találta el az a lövés, amellyel egy vadász...                   0\n",
       "4  Egy csempész ismerőse szintén ,,cigiben utazó\"...                  -1"
      ]
     },
     "execution_count": 3,
     "metadata": {},
     "output_type": "execute_result"
    }
   ],
   "source": [
    "annotation_columns = ['Annot1', 'Annot2', 'Annot3', 'Annot4', 'Annot5']\n",
    "\n",
    "data['ConsensusSentiment'] = mode(data[annotation_columns], axis=1).mode\n",
    "sentiment_distribution = data['ConsensusSentiment'].value_counts()\n",
    "modified_data_preview = data[['Sentence', 'ConsensusSentiment']].head()\n",
    "\n",
    "plt.bar(['Negative', 'Neutral','Positive'],sentiment_distribution)\n",
    "plt.show()\n",
    "\n",
    "modified_data_preview"
   ]
  },
  {
   "cell_type": "code",
   "execution_count": 4,
   "metadata": {},
   "outputs": [
    {
     "name": "stderr",
     "output_type": "stream",
     "text": [
      "C:\\Users\\mrkoc\\AppData\\Local\\Temp\\ipykernel_8620\\2125145812.py:1: DeprecationWarning: DataFrameGroupBy.apply operated on the grouping columns. This behavior is deprecated, and in a future version of pandas the grouping columns will be excluded from the operation. Either pass `include_groups=False` to exclude the groupings or explicitly select the grouping columns after groupby to silence this warning.\n",
      "  sample_data = data.groupby('ConsensusSentiment').apply(lambda x: x.sample(2, random_state=42)).reset_index(drop=True)\n"
     ]
    },
    {
     "data": {
      "text/html": [
       "<div>\n",
       "<style scoped>\n",
       "    .dataframe tbody tr th:only-of-type {\n",
       "        vertical-align: middle;\n",
       "    }\n",
       "\n",
       "    .dataframe tbody tr th {\n",
       "        vertical-align: top;\n",
       "    }\n",
       "\n",
       "    .dataframe thead th {\n",
       "        text-align: right;\n",
       "    }\n",
       "</style>\n",
       "<table border=\"1\" class=\"dataframe\">\n",
       "  <thead>\n",
       "    <tr style=\"text-align: right;\">\n",
       "      <th></th>\n",
       "      <th>Sentence</th>\n",
       "      <th>ConsensusSentiment</th>\n",
       "    </tr>\n",
       "  </thead>\n",
       "  <tbody>\n",
       "    <tr>\n",
       "      <th>0</th>\n",
       "      <td>A frissen kinevezett biztos júniusban három vi...</td>\n",
       "      <td>-1</td>\n",
       "    </tr>\n",
       "    <tr>\n",
       "      <th>1</th>\n",
       "      <td>Hét izraeli, köztük Gal és nagyanyja, Noah Alo...</td>\n",
       "      <td>-1</td>\n",
       "    </tr>\n",
       "    <tr>\n",
       "      <th>2</th>\n",
       "      <td>- Egy-egy szerető is feltűnik Szabó Zsófi és S...</td>\n",
       "      <td>0</td>\n",
       "    </tr>\n",
       "    <tr>\n",
       "      <th>3</th>\n",
       "      <td>Szalay-Berzeviczy Attila úgy véli, a gazdasági...</td>\n",
       "      <td>0</td>\n",
       "    </tr>\n",
       "    <tr>\n",
       "      <th>4</th>\n",
       "      <td>,,Szögi Lajos családja közel száz milliót kapo...</td>\n",
       "      <td>1</td>\n",
       "    </tr>\n",
       "    <tr>\n",
       "      <th>5</th>\n",
       "      <td>Páva Zsolt kiemelte: Prinz Gyula ahhoz a klass...</td>\n",
       "      <td>1</td>\n",
       "    </tr>\n",
       "  </tbody>\n",
       "</table>\n",
       "</div>"
      ],
      "text/plain": [
       "                                            Sentence  ConsensusSentiment\n",
       "0  A frissen kinevezett biztos júniusban három vi...                  -1\n",
       "1  Hét izraeli, köztük Gal és nagyanyja, Noah Alo...                  -1\n",
       "2  - Egy-egy szerető is feltűnik Szabó Zsófi és S...                   0\n",
       "3  Szalay-Berzeviczy Attila úgy véli, a gazdasági...                   0\n",
       "4  ,,Szögi Lajos családja közel száz milliót kapo...                   1\n",
       "5  Páva Zsolt kiemelte: Prinz Gyula ahhoz a klass...                   1"
      ]
     },
     "execution_count": 4,
     "metadata": {},
     "output_type": "execute_result"
    }
   ],
   "source": [
    "sample_data = data.groupby('ConsensusSentiment').apply(lambda x: x.sample(2, random_state=42)).reset_index(drop=True)\n",
    "sample_sentences = sample_data['Sentence']\n",
    "sample_sentiments = sample_data['ConsensusSentiment'].replace({-1: 'Negative', 0: 'Neutral', 1: 'Positive'})\n",
    "\n",
    "sample_data[['Sentence','ConsensusSentiment']]"
   ]
  },
  {
   "cell_type": "code",
   "execution_count": 5,
   "metadata": {},
   "outputs": [
    {
     "name": "stdout",
     "output_type": "stream",
     "text": [
      "You are a native Hungarian speaker. Amazing at recognizing even the most suble sings of a of particular sentiment in a sentence. Here's the task:\n",
      "\n",
      "Text: A frissen kinevezett biztos júniusban három vizsgálandó ügycsoportot nevezett meg: az egyikben az off-shore-cégekkel összefüggésben a Wallis-csoport, Oszkó Péter korábbi pénzügyminiszter, a Magyar Villamos Művek és a Magyar Nemzeti Bank szerepelt, a másodikban a ferihegyi repülőtér és a Malév privatizációja, a harmadikban pedig közérdekű adatokkal való visszaélésről volt szó Gyurcsány Ferenc és Veres János esetében a 2006-os választások előtt állítólag meghamisított államháztartási adatok miatt.\n",
      "Sentiment: Negative\n",
      "\n",
      "Text: Hét izraeli, köztük Gal és nagyanyja, Noah Alon vesztette életét a robbanásban, amelyben további mintegy ötven személy megsebesült.\n",
      "Sentiment: Negative\n",
      "\n",
      "Text: - Egy-egy szerető is feltűnik Szabó Zsófi és Szabó Máté személyében, akik mind ahhoz segítik a párosunkat, hogy újra egymásra találjuk.\n",
      "Sentiment: Neutral\n",
      "\n",
      "Text: Szalay-Berzeviczy Attila úgy véli, a gazdasági válság nem ijesztheti meg a döntéshozókat, mert aki cselekvőképtelenné válik, az nem fog tudni felzárkózni, viszont aki lehetőséget lát a válságban, az nyertesként tud ebből az ügyből kilépni.\n",
      "Sentiment: Neutral\n",
      "\n",
      "Text: ,,Szögi Lajos családja közel száz milliót kapott és a tettesek százszoros büntetést kaptak mint amennyit kellett volna.\"\n",
      "Sentiment: Positive\n",
      "\n",
      "Text: Páva Zsolt kiemelte: Prinz Gyula ahhoz a klasszikus földrajztudós generációhoz tartozott, amelynek tagjai még kalandos utak során fedezték fel a Föld ismeretlen területeit.\n",
      "Sentiment: Positive\n",
      "\n",
      "\n"
     ]
    }
   ],
   "source": [
    "few_shot_prompt= \"You are a native Hungarian speaker. Amazing at recognizing even the most suble sings of a of particular sentiment in a sentence. Here's the task:\\n\\n\"\n",
    "few_shot_prompt += \"\\n\\n\".join([f\"Text: {text}\\nSentiment: {sent}\" for text, sent in zip(sample_sentences, sample_sentiments)])\n",
    "few_shot_prompt += \"\\n\\n\"\n",
    "\n",
    "print(few_shot_prompt)"
   ]
  },
  {
   "cell_type": "code",
   "execution_count": 6,
   "metadata": {},
   "outputs": [],
   "source": [
    "client = openai.OpenAI()\n",
    "\n",
    "def analyze_sentiment_with_openai(prompt, sentences, model=\"gpt-3.5-turbo-instruct\", max_tokens=60):\n",
    "    responses = []\n",
    "    for sentence in sentences:\n",
    "        full_prompt = prompt + f\"Text: {sentence}\\nSentiment:\"\n",
    "        response = client.completions.create(\n",
    "            model=model,\n",
    "            prompt=full_prompt,\n",
    "            max_tokens=max_tokens,\n",
    "            n=1,\n",
    "            stop=None\n",
    "        )\n",
    "        responses.append((sentence, response.choices[0].text.strip()))\n",
    "    return responses"
   ]
  },
  {
   "cell_type": "code",
   "execution_count": 7,
   "metadata": {},
   "outputs": [
    {
     "name": "stdout",
     "output_type": "stream",
     "text": [
      "Sentence: Rogán Antal azt mondta: alapos, mindenre kiterjedő beszámolót hallottak az atomerőmű vezérigazgatójától, ez és a látottak, tapasztaltak meggyőzték őket arról, hogy Magyarországon az atomtechnológia működtetése megnyugtató.\n",
      "Predicted Sentiment: Positive\n",
      "Real Sentiment: Neutral\n",
      "\n",
      "Sentence: Czaun János (civilben rátóti lakos és egyben a terület önkormányzati képviselője hangoztatta, számos fórumot szervezett már) egyetért Nagy Piroskával abban, hogy át kell gondolni még a témát, amely ekkora indulatokat hozott ki az emberekből.\n",
      "Predicted Sentiment: Neutral\n",
      "Real Sentiment: Neutral\n",
      "\n",
      "Sentence: Fülöp Gergely, a Szabolcs-Szatmár-Bereg Megyei Rendőr-főkapitányság szóvivője az MTI-nek elmondta: a Nyíregyháza felől érkező autó eddig tisztázatlan körülmények között - vélhetően előzés közben - az árokba, majd egy fának csapódott.\n",
      "Predicted Sentiment: Negative\n",
      "Real Sentiment: Neutral\n",
      "\n"
     ]
    }
   ],
   "source": [
    "test_data = data.sample(3, random_state=1)\n",
    "test_sentences = test_data['Sentence'].tolist()\n",
    "results = analyze_sentiment_with_openai(few_shot_prompt, test_sentences)\n",
    "\n",
    "for result,real_sentiment in zip(results,test_data['ConsensusSentiment']):\n",
    "    print(f\"Sentence: {result[0]}\")\n",
    "    print(f\"Predicted Sentiment: {result[1]}\")\n",
    "    print(f\"Real Sentiment: {['Negative', 'Neutral','Positive'][real_sentiment+1]}\")\n",
    "    print()"
   ]
  },
  {
   "cell_type": "code",
   "execution_count": 8,
   "metadata": {},
   "outputs": [
    {
     "name": "stdout",
     "output_type": "stream",
     "text": [
      "['Positive', 'Neutral', 'Negative', 'Negative', 'Negative', 'Positive', 'Negative', 'Negative', 'Negative', 'Negative', 'Positive', 'Positive', 'Neutral', 'Neutral', 'Neutral', 'Neutral', 'Negative', 'Positive', 'Neutral', 'Negative', 'Neutral', 'Neutral', 'Neutral', 'Neutral', 'Neutral', 'Neutral', 'Negative', 'Neutral', 'Positive', 'Positive', 'Positive', 'Positive', 'Positive', 'Neutral', 'Positive', 'Negative', 'Neutral', 'Neutral', 'Neutral', 'Neutral', 'Neutral', 'Positive', 'Positive', 'Neutral', 'Positive', 'Neutral', 'Neutral', 'Positive', 'Negative', 'Negative', 'Negative', 'Negative', 'Positive', 'Negative', 'Positive', 'Positive', 'Neutral', 'Positive', 'Negative', 'Neutral', 'Neutral', 'Negative', 'Neutral', 'Positive', 'Positive', 'Positive', 'Neutral', 'Positive', 'Negative', 'Negative', 'Neutral', 'Positive', 'Positive', 'Neutral', 'Positive', 'Neutral', 'Negative', 'Positive', 'Negative', 'Negative', 'Negative', 'Negative', 'Negative', 'Negative', 'Negative', 'Positive', 'Positive', 'Neutral', 'Neutral', 'Neutral', 'Positive', 'Positive', 'Neutral', 'Neutral', 'Neutral', 'Negative', 'Negative', 'Neutral', 'Neutral', 'Negative']\n"
     ]
    },
    {
     "data": {
      "image/png": "[encoded data removed]",
      "text/plain": [
       "<Figure size 640x480 with 2 Axes>"
      ]
     },
     "metadata": {},
     "output_type": "display_data"
    }
   ],
   "source": [
    "results = analyze_sentiment_with_openai(few_shot_prompt, data['Sentence'][:100].tolist())\n",
    "true_sentiments = data['ConsensusSentiment'][:100].replace({-1: 'Negative', 0: 'Neutral', 1: 'Positive'})\n",
    "pred_sentiments = [result[1] for result in results]\n",
    "print(pred_sentiments)\n",
    "\n",
    "conf_matrix = confusion_matrix(true_sentiments, pred_sentiments, labels=['Negative', 'Neutral','Positive'])\n",
    "\n",
    "disp = ConfusionMatrixDisplay(confusion_matrix=conf_matrix,display_labels=['Negative', 'Neutral','Positive'])\n",
    "disp.plot()\n",
    "plt.show()"
   ]
  }
 ],
 "metadata": {
  "kernelspec": {
   "display_name": "Python 3",
   "language": "python",
   "name": "python3"
  },
  "language_info": {
   "codemirror_mode": {
    "name": "ipython",
    "version": 3
   },
   "file_extension": ".py",
   "mimetype": "text/x-python",
   "name": "python",
   "nbconvert_exporter": "python",
   "pygments_lexer": "ipython3",
   "version": "3.11.3"
  }
 },
 "nbformat": 4,
 "nbformat_minor": 2
}
